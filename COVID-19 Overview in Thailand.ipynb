{
 "cells": [
  {
   "cell_type": "code",
   "execution_count": 5,
   "metadata": {},
   "outputs": [],
   "source": [
    "import pandas as pd\n",
    "import numpy as np\n",
    "import matplotlib\n",
    "import matplotlib.pyplot as plt\n",
    "import seaborn as sns\n",
    "import requests"
   ]
  },
  {
   "cell_type": "code",
   "execution_count": 6,
   "metadata": {},
   "outputs": [
    {
     "name": "stdout",
     "output_type": "stream",
     "text": [
      "Update Date= 28/04/2020\n"
     ]
    },
    {
     "data": {
      "text/html": [
       "<div>\n",
       "<style scoped>\n",
       "    .dataframe tbody tr th:only-of-type {\n",
       "        vertical-align: middle;\n",
       "    }\n",
       "\n",
       "    .dataframe tbody tr th {\n",
       "        vertical-align: top;\n",
       "    }\n",
       "\n",
       "    .dataframe thead th {\n",
       "        text-align: right;\n",
       "    }\n",
       "</style>\n",
       "<table border=\"1\" class=\"dataframe\">\n",
       "  <thead>\n",
       "    <tr style=\"text-align: right;\">\n",
       "      <th></th>\n",
       "      <th>ConfirmDate</th>\n",
       "      <th>No</th>\n",
       "      <th>Age</th>\n",
       "      <th>Gender</th>\n",
       "      <th>GenderEn</th>\n",
       "      <th>Nation</th>\n",
       "      <th>NationEn</th>\n",
       "      <th>Province</th>\n",
       "      <th>ProvinceId</th>\n",
       "      <th>District</th>\n",
       "      <th>ProvinceEn</th>\n",
       "      <th>Detail</th>\n",
       "    </tr>\n",
       "  </thead>\n",
       "  <tbody>\n",
       "    <tr>\n",
       "      <td>2933</td>\n",
       "      <td>2020-01-24 00:00:00</td>\n",
       "      <td>5</td>\n",
       "      <td>66.0</td>\n",
       "      <td>หญิง</td>\n",
       "      <td>Female</td>\n",
       "      <td>จีน</td>\n",
       "      <td>Chinese</td>\n",
       "      <td>นนทบุรี</td>\n",
       "      <td>24</td>\n",
       "      <td></td>\n",
       "      <td>Nonthaburi</td>\n",
       "      <td>None</td>\n",
       "    </tr>\n",
       "    <tr>\n",
       "      <td>2934</td>\n",
       "      <td>2020-01-22 00:00:00</td>\n",
       "      <td>4</td>\n",
       "      <td>68.0</td>\n",
       "      <td>ชาย</td>\n",
       "      <td>Male</td>\n",
       "      <td>จีน</td>\n",
       "      <td>Chinese</td>\n",
       "      <td>กรุงเทพมหานคร</td>\n",
       "      <td>1</td>\n",
       "      <td></td>\n",
       "      <td>Bangkok</td>\n",
       "      <td>None</td>\n",
       "    </tr>\n",
       "    <tr>\n",
       "      <td>2935</td>\n",
       "      <td>2020-01-22 00:00:00</td>\n",
       "      <td>3</td>\n",
       "      <td>73.0</td>\n",
       "      <td>หญิง</td>\n",
       "      <td>Female</td>\n",
       "      <td>ไทย</td>\n",
       "      <td>Thai</td>\n",
       "      <td>นครปฐม</td>\n",
       "      <td>19</td>\n",
       "      <td>เมือง</td>\n",
       "      <td>Nakhon Pathom</td>\n",
       "      <td>None</td>\n",
       "    </tr>\n",
       "    <tr>\n",
       "      <td>2936</td>\n",
       "      <td>2020-01-17 00:00:00</td>\n",
       "      <td>2</td>\n",
       "      <td>74.0</td>\n",
       "      <td>หญิง</td>\n",
       "      <td>Female</td>\n",
       "      <td>จีน</td>\n",
       "      <td>Chinese</td>\n",
       "      <td>กรุงเทพมหานคร</td>\n",
       "      <td>1</td>\n",
       "      <td></td>\n",
       "      <td>Bangkok</td>\n",
       "      <td>None</td>\n",
       "    </tr>\n",
       "    <tr>\n",
       "      <td>2937</td>\n",
       "      <td>2020-01-12 00:00:00</td>\n",
       "      <td>1</td>\n",
       "      <td>61.0</td>\n",
       "      <td>หญิง</td>\n",
       "      <td>Female</td>\n",
       "      <td>จีน</td>\n",
       "      <td>Chinese</td>\n",
       "      <td>กรุงเทพมหานคร</td>\n",
       "      <td>1</td>\n",
       "      <td></td>\n",
       "      <td>Bangkok</td>\n",
       "      <td>None</td>\n",
       "    </tr>\n",
       "  </tbody>\n",
       "</table>\n",
       "</div>"
      ],
      "text/plain": [
       "              ConfirmDate No   Age Gender GenderEn Nation NationEn  \\\n",
       "2933  2020-01-24 00:00:00  5  66.0   หญิง   Female    จีน  Chinese   \n",
       "2934  2020-01-22 00:00:00  4  68.0    ชาย     Male    จีน  Chinese   \n",
       "2935  2020-01-22 00:00:00  3  73.0   หญิง   Female    ไทย     Thai   \n",
       "2936  2020-01-17 00:00:00  2  74.0   หญิง   Female    จีน  Chinese   \n",
       "2937  2020-01-12 00:00:00  1  61.0   หญิง   Female    จีน  Chinese   \n",
       "\n",
       "           Province  ProvinceId District     ProvinceEn Detail  \n",
       "2933        นนทบุรี          24              Nonthaburi   None  \n",
       "2934  กรุงเทพมหานคร           1                 Bangkok   None  \n",
       "2935         นครปฐม          19    เมือง  Nakhon Pathom   None  \n",
       "2936  กรุงเทพมหานคร           1                 Bangkok   None  \n",
       "2937  กรุงเทพมหานคร           1                 Bangkok   None  "
      ]
     },
     "execution_count": 6,
     "metadata": {},
     "output_type": "execute_result"
    }
   ],
   "source": [
    "#อ่านข้อมูลจาก API all cases\n",
    "url= \"https://covid19.th-stat.com/api/open/cases\"\n",
    "cr = requests.get(url)\n",
    "\n",
    "date = cr.json()\n",
    "date = date[\"UpdateDate\"]\n",
    "print(\"Update Date=\",date)\n",
    "\n",
    "case = cr.json()\n",
    "case = case[\"Data\"]\n",
    "case_df = pd.DataFrame(case)\n",
    "case_df.tail()"
   ]
  },
  {
   "cell_type": "code",
   "execution_count": 7,
   "metadata": {},
   "outputs": [
    {
     "name": "stdout",
     "output_type": "stream",
     "text": [
      "Update Date= 28/04/2020\n"
     ]
    },
    {
     "data": {
      "text/html": [
       "<div>\n",
       "<style scoped>\n",
       "    .dataframe tbody tr th:only-of-type {\n",
       "        vertical-align: middle;\n",
       "    }\n",
       "\n",
       "    .dataframe tbody tr th {\n",
       "        vertical-align: top;\n",
       "    }\n",
       "\n",
       "    .dataframe thead th {\n",
       "        text-align: right;\n",
       "    }\n",
       "</style>\n",
       "<table border=\"1\" class=\"dataframe\">\n",
       "  <thead>\n",
       "    <tr style=\"text-align: right;\">\n",
       "      <th></th>\n",
       "      <th>Age</th>\n",
       "      <th>GenderEn</th>\n",
       "      <th>NationEn</th>\n",
       "      <th>ProvinceEn</th>\n",
       "    </tr>\n",
       "  </thead>\n",
       "  <tbody>\n",
       "    <tr>\n",
       "      <td>0</td>\n",
       "      <td>25.0</td>\n",
       "      <td>Female</td>\n",
       "      <td>Chinese</td>\n",
       "      <td>Bangkok</td>\n",
       "    </tr>\n",
       "    <tr>\n",
       "      <td>1</td>\n",
       "      <td>39.0</td>\n",
       "      <td>Female</td>\n",
       "      <td>Thai</td>\n",
       "      <td>Bangkok</td>\n",
       "    </tr>\n",
       "    <tr>\n",
       "      <td>2</td>\n",
       "      <td>50.0</td>\n",
       "      <td>Female</td>\n",
       "      <td>Thai</td>\n",
       "      <td>Phuket</td>\n",
       "    </tr>\n",
       "    <tr>\n",
       "      <td>3</td>\n",
       "      <td>20.0</td>\n",
       "      <td>Male</td>\n",
       "      <td>Thai</td>\n",
       "      <td>Phuket</td>\n",
       "    </tr>\n",
       "    <tr>\n",
       "      <td>4</td>\n",
       "      <td>23.0</td>\n",
       "      <td>Male</td>\n",
       "      <td>Thai</td>\n",
       "      <td>Phuket</td>\n",
       "    </tr>\n",
       "  </tbody>\n",
       "</table>\n",
       "</div>"
      ],
      "text/plain": [
       "    Age GenderEn NationEn ProvinceEn\n",
       "0  25.0   Female  Chinese    Bangkok\n",
       "1  39.0   Female     Thai    Bangkok\n",
       "2  50.0   Female     Thai     Phuket\n",
       "3  20.0     Male     Thai     Phuket\n",
       "4  23.0     Male     Thai     Phuket"
      ]
     },
     "execution_count": 7,
     "metadata": {},
     "output_type": "execute_result"
    }
   ],
   "source": [
    "#นำ column ที่ไม่ได้ใช้ออก\n",
    "case_df = case_df.drop([\"ConfirmDate\",\"No\",\"Gender\",\"Nation\",\"Province\",\"ProvinceId\",\"District\",\"Detail\"],axis=1)\n",
    "print(\"Update Date=\",date)\n",
    "case_df.head()"
   ]
  },
  {
   "cell_type": "code",
   "execution_count": 8,
   "metadata": {},
   "outputs": [
    {
     "name": "stdout",
     "output_type": "stream",
     "text": [
      "Update Date= 28/04/2020\n"
     ]
    },
    {
     "data": {
      "text/html": [
       "<div>\n",
       "<style scoped>\n",
       "    .dataframe tbody tr th:only-of-type {\n",
       "        vertical-align: middle;\n",
       "    }\n",
       "\n",
       "    .dataframe tbody tr th {\n",
       "        vertical-align: top;\n",
       "    }\n",
       "\n",
       "    .dataframe thead th {\n",
       "        text-align: right;\n",
       "    }\n",
       "</style>\n",
       "<table border=\"1\" class=\"dataframe\">\n",
       "  <thead>\n",
       "    <tr style=\"text-align: right;\">\n",
       "      <th></th>\n",
       "      <th>Age</th>\n",
       "      <th>GenderEn</th>\n",
       "      <th>NationEn</th>\n",
       "      <th>ProvinceEn</th>\n",
       "    </tr>\n",
       "  </thead>\n",
       "  <tbody>\n",
       "    <tr>\n",
       "      <td>0</td>\n",
       "      <td>25.0</td>\n",
       "      <td>Female</td>\n",
       "      <td>Chinese</td>\n",
       "      <td>Bangkok</td>\n",
       "    </tr>\n",
       "    <tr>\n",
       "      <td>1</td>\n",
       "      <td>39.0</td>\n",
       "      <td>Female</td>\n",
       "      <td>Thai</td>\n",
       "      <td>Bangkok</td>\n",
       "    </tr>\n",
       "    <tr>\n",
       "      <td>2</td>\n",
       "      <td>50.0</td>\n",
       "      <td>Female</td>\n",
       "      <td>Thai</td>\n",
       "      <td>Phuket</td>\n",
       "    </tr>\n",
       "    <tr>\n",
       "      <td>3</td>\n",
       "      <td>20.0</td>\n",
       "      <td>Male</td>\n",
       "      <td>Thai</td>\n",
       "      <td>Phuket</td>\n",
       "    </tr>\n",
       "    <tr>\n",
       "      <td>4</td>\n",
       "      <td>23.0</td>\n",
       "      <td>Male</td>\n",
       "      <td>Thai</td>\n",
       "      <td>Phuket</td>\n",
       "    </tr>\n",
       "  </tbody>\n",
       "</table>\n",
       "</div>"
      ],
      "text/plain": [
       "    Age GenderEn NationEn ProvinceEn\n",
       "0  25.0   Female  Chinese    Bangkok\n",
       "1  39.0   Female     Thai    Bangkok\n",
       "2  50.0   Female     Thai     Phuket\n",
       "3  20.0     Male     Thai     Phuket\n",
       "4  23.0     Male     Thai     Phuket"
      ]
     },
     "execution_count": 8,
     "metadata": {},
     "output_type": "execute_result"
    }
   ],
   "source": [
    "#ลบ row ที่มี missing value\n",
    "case_df = case_df.dropna(axis=0)\n",
    "print(\"Update Date=\",date)\n",
    "case_df.head()"
   ]
  },
  {
   "cell_type": "code",
   "execution_count": 10,
   "metadata": {},
   "outputs": [
    {
     "name": "stdout",
     "output_type": "stream",
     "text": [
      "Update Date= 28/04/2020\n",
      "Number of nations :  48\n",
      "{'Chinese': 34, 'Thai': 2626, 'Burmese': 53, 'Vietnamese': 4, 'Malaysian': 4, 'Indian': 9, 'Cambodian': 3, 'English': 4, 'Filipino': 5, 'Italian': 8, 'French': 29, 'American': 12, 'British': 20, 'Unknown': 14, 'Laotian': 2, 'Australian': 4, 'Russian': 12, 'Palestinian': 1, 'Singaporean': 5, 'Kazakhstani': 2, 'Israelis': 2, 'Brazilian': 2, 'Japanese': 11, 'Albanian': 2, 'Dutch': 1, 'Swedish': 5, 'Mexican': 1, 'Tunisian': 1, 'Belgian': 6, 'Liberian': 1, 'German': 8, 'Hungarian': 1, 'Swiss': 6, 'Pakistani': 4, 'Canadian': 8, 'Serbian': 1, 'Korean': 3, 'Taiwanese': 1, 'Indonesian': 3, 'Indian-Thai': 1, 'Spain': 2, 'Uzbeks': 1, 'Portuguese': 1, 'Ukrainian': 1, 'Danish': 5, 'Finnish': 1, 'New Zealand': 1, 'Iranian': 1}\n"
     ]
    }
   ],
   "source": [
    "#เลือกข้อมูลสัญชาติมาแสดงผล\n",
    "print(\"Update Date=\",date)\n",
    "set_nation=set(case_df[\"NationEn\"])\n",
    "nationlist=list(case_df[\"NationEn\"])\n",
    "count_set_nation=len(set_nation)\n",
    "print(\"Number of nations : \", count_set_nation)\n",
    "\n",
    "nations={}\n",
    "for nation in nationlist:\n",
    "    if nation in nations:\n",
    "        nations[nation]+=1\n",
    "    else:\n",
    "        nations[nation]=1\n",
    "print(nations)"
   ]
  },
  {
   "cell_type": "code",
   "execution_count": 11,
   "metadata": {},
   "outputs": [
    {
     "name": "stdout",
     "output_type": "stream",
     "text": [
      "Update Date= 28/04/2020\n",
      "Number of gender :  2\n",
      "{'Female': 1324, 'Male': 1608}\n"
     ]
    }
   ],
   "source": [
    "#เลือกข้อมูลเพศมาแสดงผล\n",
    "print(\"Update Date=\",date)\n",
    "set_gender=set(case_df[\"GenderEn\"])\n",
    "genderlist=list(case_df[\"GenderEn\"])\n",
    "count_set_gender=len(set_gender)\n",
    "print(\"Number of gender : \", count_set_gender)\n",
    "\n",
    "genders={}\n",
    "for gender in genderlist:\n",
    "    if gender in genders:\n",
    "        genders[gender]+=1\n",
    "    else:\n",
    "        genders[gender]=1\n",
    "print(genders)"
   ]
  },
  {
   "cell_type": "code",
   "execution_count": 12,
   "metadata": {},
   "outputs": [
    {
     "data": {
      "image/png": "[encoded data removed]",
      "text/plain": [
       "<Figure size 144x360 with 1 Axes>"
      ]
     },
     "metadata": {
      "needs_background": "light"
     },
     "output_type": "display_data"
    },
    {
     "name": "stdout",
     "output_type": "stream",
     "text": [
      "Update Date= 28/04/2020\n"
     ]
    }
   ],
   "source": [
    "#แสดง bar chart เพศ\n",
    "plt.figure(figsize=[2,5])\n",
    "x = np.arange(1,3) \n",
    "y = [genders['Male'],genders['Female']]  \n",
    "gender = ['Male','Female']\n",
    "\n",
    "ax = plt.gca(xticks=x)\n",
    "ax.set_xticklabels(gender)\n",
    "bara = plt.bar(x,y,align='center',width=0.3,color='red')\n",
    "plt.title('Population of each gender')\n",
    "plt.show()\n",
    "\n",
    "print(\"Update Date=\",date)"
   ]
  },
  {
   "cell_type": "code",
   "execution_count": 13,
   "metadata": {},
   "outputs": [
    {
     "name": "stdout",
     "output_type": "stream",
     "text": [
      "Update Date= 29/04/2020 11:34\n"
     ]
    },
    {
     "data": {
      "text/html": [
       "<div>\n",
       "<style scoped>\n",
       "    .dataframe tbody tr th:only-of-type {\n",
       "        vertical-align: middle;\n",
       "    }\n",
       "\n",
       "    .dataframe tbody tr th {\n",
       "        vertical-align: top;\n",
       "    }\n",
       "\n",
       "    .dataframe thead th {\n",
       "        text-align: right;\n",
       "    }\n",
       "</style>\n",
       "<table border=\"1\" class=\"dataframe\">\n",
       "  <thead>\n",
       "    <tr style=\"text-align: right;\">\n",
       "      <th></th>\n",
       "      <th>Date</th>\n",
       "      <th>NewConfirmed</th>\n",
       "      <th>NewRecovered</th>\n",
       "      <th>NewHospitalized</th>\n",
       "      <th>NewDeaths</th>\n",
       "      <th>Confirmed</th>\n",
       "      <th>Recovered</th>\n",
       "      <th>Hospitalized</th>\n",
       "      <th>Deaths</th>\n",
       "    </tr>\n",
       "  </thead>\n",
       "  <tbody>\n",
       "    <tr>\n",
       "      <td>115</td>\n",
       "      <td>04/25/2020</td>\n",
       "      <td>53</td>\n",
       "      <td>57</td>\n",
       "      <td>-5</td>\n",
       "      <td>1</td>\n",
       "      <td>2907</td>\n",
       "      <td>2547</td>\n",
       "      <td>309</td>\n",
       "      <td>51</td>\n",
       "    </tr>\n",
       "    <tr>\n",
       "      <td>116</td>\n",
       "      <td>04/26/2020</td>\n",
       "      <td>15</td>\n",
       "      <td>47</td>\n",
       "      <td>-32</td>\n",
       "      <td>0</td>\n",
       "      <td>2922</td>\n",
       "      <td>2594</td>\n",
       "      <td>277</td>\n",
       "      <td>51</td>\n",
       "    </tr>\n",
       "    <tr>\n",
       "      <td>117</td>\n",
       "      <td>04/27/2020</td>\n",
       "      <td>9</td>\n",
       "      <td>15</td>\n",
       "      <td>-7</td>\n",
       "      <td>1</td>\n",
       "      <td>2931</td>\n",
       "      <td>2609</td>\n",
       "      <td>270</td>\n",
       "      <td>52</td>\n",
       "    </tr>\n",
       "    <tr>\n",
       "      <td>118</td>\n",
       "      <td>04/28/2020</td>\n",
       "      <td>7</td>\n",
       "      <td>43</td>\n",
       "      <td>-38</td>\n",
       "      <td>2</td>\n",
       "      <td>2938</td>\n",
       "      <td>2652</td>\n",
       "      <td>232</td>\n",
       "      <td>54</td>\n",
       "    </tr>\n",
       "    <tr>\n",
       "      <td>119</td>\n",
       "      <td>04/29/2020</td>\n",
       "      <td>9</td>\n",
       "      <td>13</td>\n",
       "      <td>-4</td>\n",
       "      <td>0</td>\n",
       "      <td>2947</td>\n",
       "      <td>2665</td>\n",
       "      <td>228</td>\n",
       "      <td>54</td>\n",
       "    </tr>\n",
       "  </tbody>\n",
       "</table>\n",
       "</div>"
      ],
      "text/plain": [
       "           Date  NewConfirmed  NewRecovered  NewHospitalized  NewDeaths  \\\n",
       "115  04/25/2020            53            57               -5          1   \n",
       "116  04/26/2020            15            47              -32          0   \n",
       "117  04/27/2020             9            15               -7          1   \n",
       "118  04/28/2020             7            43              -38          2   \n",
       "119  04/29/2020             9            13               -4          0   \n",
       "\n",
       "     Confirmed  Recovered  Hospitalized  Deaths  \n",
       "115       2907       2547           309      51  \n",
       "116       2922       2594           277      51  \n",
       "117       2931       2609           270      52  \n",
       "118       2938       2652           232      54  \n",
       "119       2947       2665           228      54  "
      ]
     },
     "execution_count": 13,
     "metadata": {},
     "output_type": "execute_result"
    }
   ],
   "source": [
    "#อ่านข้อมูลจาก API update cases\n",
    "url=\"https://covid19.th-stat.com/api/open/timeline\"\n",
    "ur = requests.get(url)\n",
    "\n",
    "update = ur.json()\n",
    "date = update[\"UpdateDate\"]\n",
    "print(\"Update Date=\",date)\n",
    "\n",
    "update = ur.json()\n",
    "update = update[\"Data\"]\n",
    "update_df = pd.DataFrame(update)\n",
    "update_df.tail()"
   ]
  },
  {
   "cell_type": "code",
   "execution_count": 14,
   "metadata": {},
   "outputs": [
    {
     "name": "stdout",
     "output_type": "stream",
     "text": [
      "Update Date= 29/04/2020 11:34\n"
     ]
    },
    {
     "data": {
      "text/html": [
       "<div>\n",
       "<style scoped>\n",
       "    .dataframe tbody tr th:only-of-type {\n",
       "        vertical-align: middle;\n",
       "    }\n",
       "\n",
       "    .dataframe tbody tr th {\n",
       "        vertical-align: top;\n",
       "    }\n",
       "\n",
       "    .dataframe thead th {\n",
       "        text-align: right;\n",
       "    }\n",
       "</style>\n",
       "<table border=\"1\" class=\"dataframe\">\n",
       "  <thead>\n",
       "    <tr style=\"text-align: right;\">\n",
       "      <th></th>\n",
       "      <th>Date</th>\n",
       "      <th>NewConfirmed</th>\n",
       "      <th>Confirmed</th>\n",
       "      <th>Recovered</th>\n",
       "      <th>Hospitalized</th>\n",
       "      <th>Deaths</th>\n",
       "    </tr>\n",
       "  </thead>\n",
       "  <tbody>\n",
       "    <tr>\n",
       "      <td>115</td>\n",
       "      <td>04/25/2020</td>\n",
       "      <td>53</td>\n",
       "      <td>2907</td>\n",
       "      <td>2547</td>\n",
       "      <td>309</td>\n",
       "      <td>51</td>\n",
       "    </tr>\n",
       "    <tr>\n",
       "      <td>116</td>\n",
       "      <td>04/26/2020</td>\n",
       "      <td>15</td>\n",
       "      <td>2922</td>\n",
       "      <td>2594</td>\n",
       "      <td>277</td>\n",
       "      <td>51</td>\n",
       "    </tr>\n",
       "    <tr>\n",
       "      <td>117</td>\n",
       "      <td>04/27/2020</td>\n",
       "      <td>9</td>\n",
       "      <td>2931</td>\n",
       "      <td>2609</td>\n",
       "      <td>270</td>\n",
       "      <td>52</td>\n",
       "    </tr>\n",
       "    <tr>\n",
       "      <td>118</td>\n",
       "      <td>04/28/2020</td>\n",
       "      <td>7</td>\n",
       "      <td>2938</td>\n",
       "      <td>2652</td>\n",
       "      <td>232</td>\n",
       "      <td>54</td>\n",
       "    </tr>\n",
       "    <tr>\n",
       "      <td>119</td>\n",
       "      <td>04/29/2020</td>\n",
       "      <td>9</td>\n",
       "      <td>2947</td>\n",
       "      <td>2665</td>\n",
       "      <td>228</td>\n",
       "      <td>54</td>\n",
       "    </tr>\n",
       "  </tbody>\n",
       "</table>\n",
       "</div>"
      ],
      "text/plain": [
       "           Date  NewConfirmed  Confirmed  Recovered  Hospitalized  Deaths\n",
       "115  04/25/2020            53       2907       2547           309      51\n",
       "116  04/26/2020            15       2922       2594           277      51\n",
       "117  04/27/2020             9       2931       2609           270      52\n",
       "118  04/28/2020             7       2938       2652           232      54\n",
       "119  04/29/2020             9       2947       2665           228      54"
      ]
     },
     "execution_count": 14,
     "metadata": {},
     "output_type": "execute_result"
    }
   ],
   "source": [
    "#นำ column ที่ไม่ได้ใช้ออก\n",
    "print(\"Update Date=\",date)\n",
    "update_df = update_df.drop([\"NewRecovered\",\"NewHospitalized\",\"NewDeaths\"],axis=1)\n",
    "update_df.tail()"
   ]
  },
  {
   "cell_type": "code",
   "execution_count": 15,
   "metadata": {},
   "outputs": [
    {
     "data": {
      "image/png": "[encoded data removed]",
      "text/plain": [
       "<Figure size 1440x504 with 1 Axes>"
      ]
     },
     "metadata": {
      "needs_background": "light"
     },
     "output_type": "display_data"
    },
    {
     "name": "stdout",
     "output_type": "stream",
     "text": [
      "Update Date= 29/04/2020 11:34\n"
     ]
    }
   ],
   "source": [
    "#อัตราพบผู้ป่วยใหม่\n",
    "fig, ax1 = plt.subplots(figsize=(20,7))\n",
    "sns.lineplot(data=update_df[-30:], y=\"NewConfirmed\", ax=ax1, x=\"Date\", color=\"blue\")\n",
    "\n",
    "ax1.set_xlabel(\"Date\")\n",
    "ax1.set_ylabel(\"New confirmed cases\")\n",
    "\n",
    "plt.title(\"Rate of new confirmed cases\")\n",
    "plt.show()\n",
    "\n",
    "print(\"Update Date=\",date)"
   ]
  },
  {
   "cell_type": "code",
   "execution_count": 16,
   "metadata": {},
   "outputs": [
    {
     "data": {
      "image/png": "[encoded data removed]",
      "text/plain": [
       "<Figure size 2160x720 with 1 Axes>"
      ]
     },
     "metadata": {
      "needs_background": "light"
     },
     "output_type": "display_data"
    },
    {
     "name": "stdout",
     "output_type": "stream",
     "text": [
      "Update Date= 29/04/2020 11:34\n"
     ]
    }
   ],
   "source": [
    "#แสดงกราฟ overview\n",
    "fig, ax1 = plt.subplots(figsize=(30,10))\n",
    "sns.lineplot(data=update_df[-30:], y=\"Confirmed\", ax=ax1, x=\"Date\", label=\"Total Confirmed\", color=\"red\")\n",
    "sns.lineplot(data=update_df[-30:], y=\"Recovered\", ax=ax1, x=\"Date\", label=\"Total Recovered\", color=\"green\")\n",
    "sns.lineplot(data=update_df[-30:], y=\"Hospitalized\", ax=ax1, x=\"Date\", label=\"Total Hospitalized\", color=\"blue\")\n",
    "sns.lineplot(data=update_df[-30:], y=\"Deaths\", ax=ax1, x=\"Date\", label=\"Deaths\", color=\"black\")\n",
    "\n",
    "ax1.set_xlabel(\"Date\")\n",
    "ax1.set_ylabel(\"Population\")\n",
    "\n",
    "plt.title(\"Total cases\")\n",
    "plt.show()\n",
    "\n",
    "print(\"Update Date=\",date)"
   ]
  },
  {
   "cell_type": "code",
   "execution_count": null,
   "metadata": {},
   "outputs": [],
   "source": []
  }
 ],
 "metadata": {
  "kernelspec": {
   "display_name": "Python 3",
   "language": "python",
   "name": "python3"
  },
  "language_info": {
   "codemirror_mode": {
    "name": "ipython",
    "version": 3
   },
   "file_extension": ".py",
   "mimetype": "text/x-python",
   "name": "python",
   "nbconvert_exporter": "python",
   "pygments_lexer": "ipython3",
   "version": "3.7.4"
  }
 },
 "nbformat": 4,
 "nbformat_minor": 4
}
